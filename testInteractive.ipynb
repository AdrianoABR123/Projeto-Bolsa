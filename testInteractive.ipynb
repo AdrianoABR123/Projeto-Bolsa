{
 "cells": [
  {
   "cell_type": "markdown",
   "id": "5eef31ab",
   "metadata": {},
   "source": [
    "# Vizualizando o notebook"
   ]
  },
  {
   "cell_type": "markdown",
   "id": "a63a9e85",
   "metadata": {},
   "source": [
    "## Primeiro teste\n",
    "\n",
    "Implementação do teste do note em py\n",
    "\n",
    "## Meu primeiro código em Python"
   ]
  },
  {
   "cell_type": "code",
   "execution_count": 2,
   "id": "f9c4153e",
   "metadata": {},
   "outputs": [
    {
     "name": "stdout",
     "output_type": "stream",
     "text": [
      "Hello Mother fucker!\n"
     ]
    }
   ],
   "source": [
    "print(\"Hello Mother fucker!\")"
   ]
  }
 ],
 "metadata": {
  "kernelspec": {
   "display_name": "Python 3",
   "language": "python",
   "name": "python3"
  },
  "language_info": {
   "codemirror_mode": {
    "name": "ipython",
    "version": 3
   },
   "file_extension": ".py",
   "mimetype": "text/x-python",
   "name": "python",
   "nbconvert_exporter": "python",
   "pygments_lexer": "ipython3",
   "version": "3.12.1"
  }
 },
 "nbformat": 4,
 "nbformat_minor": 5
}
